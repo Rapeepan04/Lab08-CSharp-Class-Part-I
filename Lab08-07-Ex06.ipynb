{
 "cells": [
  {
   "cell_type": "markdown",
   "metadata": {
    "dotnet_interactive": {
     "language": "csharp"
    },
    "polyglot_notebook": {
     "kernelName": "csharp"
    }
   },
   "source": [
    "# Lab 8 Exercise 6\n",
    "\n",
    "## Method with parameter"
   ]
  },
  {
   "cell_type": "markdown",
   "metadata": {},
   "source": [
    "1. สร้าง console application project\n",
    "\n",
    "```\n",
    "    dotnet new console --name Lab08_Ex06\n",
    "```\n"
   ]
  },
  {
   "cell_type": "markdown",
   "metadata": {},
   "source": [
    "2. เปลี่ยน code ให้เป็นดังต่อไปนี้\n",
    "\n",
    "> ```csharp\n",
    "> 1. var mc = new MyClass();\n",
    "> 2. mc.DisplayParam(3, 4);\n",
    "> 3. class MyClass\n",
    "> 4. {\n",
    "> 5.     public void DisplayParam(int a, int b)\n",
    "> 6.     {\n",
    "> 7.         System.Console.WriteLine($\"a = {a}, b = {b}\");\n",
    "> 8.     } \n",
    "> 9. }\n",
    "> ```\n",
    "\n"
   ]
  },
  {
   "cell_type": "markdown",
   "metadata": {},
   "source": [
    "3. Build project โดยการใช้คำสั่ง\n",
    "\n",
    "```\n",
    "    dotnet build  Lab08_Ex06\n",
    "```"
   ]
  },
  {
   "cell_type": "markdown",
   "metadata": {},
   "source": [
    "4. บันทึกผลที่ได้จากการรันคำสั่งในข้อ 3\n",
    "\n"
   ]
  },
  {
   "cell_type": "markdown",
   "metadata": {},
   "source": [
    "*คำตอบ*"
   ]
  },
  {
   "cell_type": "markdown",
   "metadata": {},
   "source": [
    "  Lab08_Ex06 -> D:\\github\\Lab08-CSharp-Class-Part-I\\Lab08_Ex06\\bin\\Debug\\net8.0\\Lab08_Ex06.dll\n",
    "\n",
    "Build succeeded.\n",
    "    0 Warning(s)\n",
    "    0 Error(s)"
   ]
  },
  {
   "cell_type": "markdown",
   "metadata": {},
   "source": [
    "5. Run project โดยการใช้คำสั่ง\n",
    "\n",
    "```\n",
    "    dotnet run --project Lab08_Ex06\n",
    "```"
   ]
  },
  {
   "cell_type": "markdown",
   "metadata": {},
   "source": [
    "6. บันทึกผลที่ได้จากการรันคำสั่งในข้อ 5\n",
    "\n",
    "\n"
   ]
  },
  {
   "cell_type": "markdown",
   "metadata": {},
   "source": [
    "*คำตอบ*"
   ]
  },
  {
   "cell_type": "markdown",
   "metadata": {},
   "source": [
    "a = 3, b = 4"
   ]
  },
  {
   "cell_type": "markdown",
   "metadata": {},
   "source": [
    "7. อธิบายสิ่งที่พบในการทดลอง\n"
   ]
  },
  {
   "cell_type": "markdown",
   "metadata": {},
   "source": [
    "*คำตอบ*"
   ]
  },
  {
   "cell_type": "markdown",
   "metadata": {},
   "source": [
    "เมื่อทำการ build และ run จะไม่พบ warning หรือ error ใดๆ\n",
    "\n",
    "โดยได้ผลการรันดังนี้ a = 3, b = 4"
   ]
  },
  {
   "cell_type": "markdown",
   "metadata": {},
   "source": [
    "8. นำ code ในข้อ 2 มารันบน polyglot notebook  โดยใส่ใน  code cell ด้านล่างนี้\n"
   ]
  },
  {
   "cell_type": "code",
   "execution_count": null,
   "metadata": {},
   "outputs": [
    {
     "name": "stdout",
     "output_type": "stream",
     "text": [
      "a = 3, b = 4\r\n"
     ]
    }
   ],
   "source": [
    "// พื้นที่เขียน code ตามข้อ 2\n",
    "var mc = new MyClass();\n",
    "  mc.DisplayParam(3, 4);\n",
    "  class MyClass\n",
    "  {\n",
    "      public void DisplayParam(int a, int b)\n",
    "      {\n",
    "          System.Console.WriteLine($\"a = {a}, b = {b}\");\n",
    "      } \n",
    "  }"
   ]
  },
  {
   "cell_type": "markdown",
   "metadata": {},
   "source": [
    "8.1 ผลการรันเป็นอย่างไร\n",
    "\n"
   ]
  },
  {
   "cell_type": "markdown",
   "metadata": {},
   "source": [
    "*คำตอบ*"
   ]
  },
  {
   "cell_type": "markdown",
   "metadata": {},
   "source": [
    "a = 3, b = 4"
   ]
  },
  {
   "cell_type": "markdown",
   "metadata": {},
   "source": [
    "8.2 เหมือนหรือต่างจาก console application อย่างไร"
   ]
  },
  {
   "cell_type": "markdown",
   "metadata": {},
   "source": [
    "*คำตอบ*"
   ]
  },
  {
   "cell_type": "markdown",
   "metadata": {},
   "source": [
    "ผลลัพธ์การรันเหมือนกัน"
   ]
  },
  {
   "cell_type": "markdown",
   "metadata": {},
   "source": [
    "## คำถาม"
   ]
  },
  {
   "cell_type": "markdown",
   "metadata": {},
   "source": [
    "1. Method with parameter คืออะไร\n"
   ]
  },
  {
   "cell_type": "markdown",
   "metadata": {},
   "source": [
    "*คำตอบ*"
   ]
  },
  {
   "cell_type": "markdown",
   "metadata": {},
   "source": [
    "Method with parameter คือ เมธอด (ฟังก์ชันของคลาส) ที่รับค่าพารามิเตอร์เป็นข้อมูลเข้าไปประมวลผล"
   ]
  },
  {
   "cell_type": "markdown",
   "metadata": {},
   "source": [
    "2. ทำไมเราต้องใช้ parameter ใน method\n"
   ]
  },
  {
   "cell_type": "markdown",
   "metadata": {},
   "source": [
    "*คำตอบ*"
   ]
  },
  {
   "cell_type": "markdown",
   "metadata": {},
   "source": [
    "ใช้ parameter ใน method เพื่อให้เมธอดรับค่าจากภายนอกและทำงานกับข้อมูลที่เปลี่ยนแปลงได้ แทนที่จะใช้ค่าเดิมตลอด"
   ]
  },
  {
   "cell_type": "markdown",
   "metadata": {},
   "source": [
    "3. parameter และ argument แตกต่างกันอย่างไร\n"
   ]
  },
  {
   "cell_type": "markdown",
   "metadata": {},
   "source": [
    "*คำตอบ*"
   ]
  },
  {
   "cell_type": "markdown",
   "metadata": {},
   "source": [
    "Parameter คือ ตัวแปรที่กำหนดในเมธอดหรือฟังก์ชัน (ใช้ตอนประกาศ)\n",
    "Argument คือ ค่าที่ส่งเข้าไปในฟังก์ชัน (ใช้ตอนเรียกใช้งาน)"
   ]
  },
  {
   "cell_type": "markdown",
   "metadata": {},
   "source": [
    "4. ส่วนประกอบของ method ที่มี parameter มีอะไรบ้าง\n"
   ]
  },
  {
   "cell_type": "markdown",
   "metadata": {},
   "source": [
    "*คำตอบ*"
   ]
  },
  {
   "cell_type": "markdown",
   "metadata": {},
   "source": [
    "ส่วนประกอบของ Method ที่มี Parameter มี 3 ส่วนหลัก ได้แก่:\n",
    "\n",
    "ชื่อเมธอด (Method Name) – กำหนดชื่อเพื่อเรียกใช้งาน\n",
    "\n",
    "พารามิเตอร์ (Parameters) – ตัวแปรที่รับค่าจากภายนอก\n",
    "\n",
    "บอดี้ของเมธอด (Method Body) – คำสั่งที่ให้เมธอดทำงาน"
   ]
  },
  {
   "cell_type": "markdown",
   "metadata": {},
   "source": [
    "5. เมื่อไหร่ควรใช้ method ที่มี parameter"
   ]
  },
  {
   "cell_type": "markdown",
   "metadata": {},
   "source": [
    "*คำตอบ*"
   ]
  },
  {
   "cell_type": "markdown",
   "metadata": {},
   "source": [
    "ควรใช้ Method ที่มี Parameter เมื่อ:\n",
    "\n",
    "1 ต้องการให้เมธอดทำงานกับค่าที่เปลี่ยนแปลงได้\n",
    "\n",
    "→ เช่น คำนวณเลข, แสดงข้อความที่แตกต่างกัน\n",
    "\n",
    "2 ต้องการลดการเขียนโค้ดซ้ำซ้อน (Code Reusability)\n",
    "\n",
    "→ เช่น ฟังก์ชันเดียวใช้กับข้อมูลหลายชุด\n",
    "\n",
    "3 ต้องการให้เมธอดรับค่าจากผู้ใช้หรือจากโปรแกรมอื่น\n",
    "\n",
    "→ เช่น รับค่าจากฟอร์ม, API, หรืออาร์กิวเมนต์ที่เปลี่ยนไป"
   ]
  },
  {
   "cell_type": "markdown",
   "metadata": {},
   "source": [
    "6. ถ้าแก้ไขโค้ดในบรรทัดที่ 2 เป็นดังต่อไปนี้  จะได้ผลการ build หรือ run เป็นอย่างไร ให้แสดง output ที่โปรแกรมแสดงออกมา\n",
    "```csharp\n",
    "    mc.DisplayParam(3.5, 4.2);\n",
    "```\n"
   ]
  },
  {
   "cell_type": "code",
   "execution_count": null,
   "metadata": {},
   "outputs": [
    {
     "ename": "Error",
     "evalue": "(3,17): error CS1503: Argument 1: cannot convert from 'double' to 'int'\r\n(3,22): error CS1503: Argument 2: cannot convert from 'double' to 'int'",
     "output_type": "error",
     "traceback": [
      "(3,17): error CS1503: Argument 1: cannot convert from 'double' to 'int'\r\n",
      "(3,22): error CS1503: Argument 2: cannot convert from 'double' to 'int'"
     ]
    }
   ],
   "source": [
    "// พื้นที่เขียน code และทดสอบ\n",
    "var mc = new MyClass();\n",
    "mc.DisplayParam(3.5, 4.2);\n",
    "class MyClass\n",
    "{\n",
    "    public void DisplayParam(int a, int b)\n",
    "    {\n",
    "     System.Console.WriteLine($\"a = {a}, b = {b}\");\n",
    "    } \n",
    "}"
   ]
  },
  {
   "cell_type": "markdown",
   "metadata": {},
   "source": [
    "*คำตอบ*"
   ]
  },
  {
   "cell_type": "markdown",
   "metadata": {},
   "source": [
    "Error: (3,17): error CS1503: Argument 1: cannot convert from 'double' to 'int'\n",
    "\n",
    "(3,22): error CS1503: Argument 2: cannot convert from 'double' to 'int'"
   ]
  },
  {
   "cell_type": "markdown",
   "metadata": {},
   "source": [
    "7. ถ้าแก้ไขโค้ดในบรรทัดที่ 2 เป็นดังต่อไปนี้  จะได้ผลการ build หรือ run เป็นอย่างไร ให้แสดง output ที่โปรแกรมแสดงออกมา\n",
    "```csharp\n",
    "    mc.DisplayParam(\"Hello\", \"World\");\n",
    "```"
   ]
  },
  {
   "cell_type": "code",
   "execution_count": null,
   "metadata": {},
   "outputs": [
    {
     "ename": "Error",
     "evalue": "(3,17): error CS1503: Argument 1: cannot convert from 'string' to 'int'\r\n(3,26): error CS1503: Argument 2: cannot convert from 'string' to 'int'",
     "output_type": "error",
     "traceback": [
      "(3,17): error CS1503: Argument 1: cannot convert from 'string' to 'int'\r\n",
      "(3,26): error CS1503: Argument 2: cannot convert from 'string' to 'int'"
     ]
    }
   ],
   "source": [
    "// พื้นที่เขียน code และทดสอบ\n",
    "var mc = new MyClass();\n",
    "mc.DisplayParam(\"Hello\", \"World\");\n",
    "class MyClass\n",
    "{\n",
    "    public void DisplayParam(int a, int b)\n",
    "    {\n",
    "     System.Console.WriteLine($\"a = {a}, b = {b}\");\n",
    "    } \n",
    "}"
   ]
  },
  {
   "cell_type": "markdown",
   "metadata": {},
   "source": [
    "*คำตอบ*"
   ]
  },
  {
   "cell_type": "markdown",
   "metadata": {},
   "source": [
    "Error: (3,17): error CS1503: Argument 1: cannot convert from 'string' to 'int'\n",
    "\n",
    "(3,26): error CS1503: Argument 2: cannot convert from 'string' to 'int'"
   ]
  },
  {
   "cell_type": "markdown",
   "metadata": {},
   "source": [
    "8. จงเขียน method ที่ตรวจสอบว่าตัวเลขที่รับเข้ามาเป็นจำนวนคู่หรือจำนวนคี่ และแสดงผลลัพธ์ทางหน้าจอ"
   ]
  },
  {
   "cell_type": "code",
   "execution_count": null,
   "metadata": {
    "dotnet_interactive": {
     "language": "csharp"
    },
    "polyglot_notebook": {
     "kernelName": "csharp"
    }
   },
   "outputs": [
    {
     "name": "stdout",
     "output_type": "stream",
     "text": [
      "a = 9, เป็นจำนวนคี่ (Odd)\n",
      "b = 12, เป็นจำนวนคู่ (Even)\n"
     ]
    }
   ],
   "source": [
    "// พื้นที่เขียน code และทดสอบ\n",
    "var mc = new MyClass();\n",
    "mc.DisplayParam(9, 12); // ทดสอบฟังก์ชัน\n",
    "\n",
    "class MyClass\n",
    "{\n",
    "    public void DisplayParam(int a, int b)\n",
    "    {\n",
    "        System.Console.WriteLine($\"a = {a}, {CheckEvenOdd(a)}\");\n",
    "        System.Console.WriteLine($\"b = {b}, {CheckEvenOdd(b)}\");\n",
    "    } \n",
    "\n",
    "    private string CheckEvenOdd(int num)\n",
    "    {\n",
    "        return (num % 2 == 0) ? \"เป็นจำนวนคู่ (Even)\" : \"เป็นจำนวนคี่ (Odd)\";\n",
    "    }\n",
    "}"
   ]
  },
  {
   "cell_type": "markdown",
   "metadata": {},
   "source": [
    "*คำตอบ*"
   ]
  },
  {
   "cell_type": "markdown",
   "metadata": {},
   "source": [
    "a = 9, เป็นจำนวนคี่ (Odd)\n",
    "\n",
    "b = 12, เป็นจำนวนคู่ (Even)"
   ]
  }
 ],
 "metadata": {
  "kernelspec": {
   "display_name": ".NET (C#)",
   "language": "C#",
   "name": ".net-csharp"
  },
  "polyglot_notebook": {
   "kernelInfo": {
    "defaultKernelName": "csharp",
    "items": [
     {
      "aliases": [],
      "languageName": "csharp",
      "name": "csharp"
     }
    ]
   }
  }
 },
 "nbformat": 4,
 "nbformat_minor": 2
}
