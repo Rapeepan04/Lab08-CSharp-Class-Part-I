{
 "cells": [
  {
   "cell_type": "markdown",
   "metadata": {},
   "source": [
    "# Lab 8 Exercise 2\n",
    "\n",
    "## การประกาศสมาชิกในคลาส (fields)\n"
   ]
  },
  {
   "cell_type": "markdown",
   "metadata": {},
   "source": [
    "\n",
    "\n",
    "1. สร้าง console application project\n",
    "\n",
    "```\n",
    "    dotnet new console --name Lab08_Ex02\n",
    "```\n"
   ]
  },
  {
   "cell_type": "markdown",
   "metadata": {},
   "source": [
    "\n",
    "2. เปลี่ยน code ให้เป็นดังต่อไปนี้ (ตัวเลขข้างหน้า คือหมายเลขบรรทัด ไว้สำหรับอ้างอิง)\n",
    "\n",
    "> ```csharp\n",
    ">  1. Person p = new Person();\n",
    ">  2. p.name = \"Rambo\";\n",
    ">  3. p.id = \"1987\";\n",
    ">  4. p.income = 2500;\n",
    ">  5. System.Console.WriteLine($\"Type of p is {p.GetType()}\");\n",
    ">  6. System.Console.WriteLine($\"p.name = {p.name}\\ttype = {p.name.GetType()}\");\n",
    ">  7. System.Console.WriteLine($\"p.id = {p.id}\\ttype = {p.id.GetType()}\");\n",
    ">  8. System.Console.WriteLine($\"p.income = {p.income}\\ttype = {p.income.GetType()}\");\n",
    ">  9. \n",
    "> 10. class Person\n",
    "> 11. {\n",
    "> 12.     string name;\n",
    "> 13.     string id;\n",
    "> 14.     int income;\n",
    "> 15. }\n",
    "> ```\n"
   ]
  },
  {
   "cell_type": "markdown",
   "metadata": {},
   "source": [
    "\n",
    "3. Build project โดยการใช้คำสั่ง\n",
    "\n",
    "```\n",
    "    dotnet build  Lab08_Ex02\n",
    "```\n"
   ]
  },
  {
   "cell_type": "markdown",
   "metadata": {},
   "source": [
    "\n",
    "4. บันทึกผลที่ได้จากการรันคำสั่งในข้อ 3\n"
   ]
  },
  {
   "cell_type": "markdown",
   "metadata": {},
   "source": [
    "*คำตอบ*\n",
    "\n",
    "D:\\github\\Lab08-CSharp-Class-Part-I\\Lab08_Ex02\\Program.cs(12,13): warning CS8618: Non-nullable field 'name' must contain a non-null value when exiting constructor. Consider declaring the field \n",
    "as nullable. [D:\\github\\Lab08-CSharp-Class-Part-I\\Lab08_Ex02\\Lab08_Ex02.csproj]\n",
    "D:\\github\\Lab08-CSharp-Class-Part-I\\Lab08_Ex02\\Program.cs(13,13): warning CS8618: Non-nullable field 'id' must contain a non-null value when exiting constructor. Consider declaring the field as \n",
    " nullable. [D:\\github\\Lab08-CSharp-Class-Part-I\\Lab08_Ex02\\Lab08_Ex02.csproj]\n",
    "D:\\github\\Lab08-CSharp-Class-Part-I\\Lab08_Ex02\\Program.cs(2,3): error CS0122: 'Person.name' is inaccessible due to its protection level [D:\\github\\Lab08-CSharp-Class-Part-I\\Lab08_Ex02\\Lab08_Ex0 \n",
    "2.csproj]\n",
    "D:\\github\\Lab08-CSharp-Class-Part-I\\Lab08_Ex02\\Program.cs(3,3): error CS0122: 'Person.id' is inaccessible due to its protection level [D:\\github\\Lab08-CSharp-Class-Part-I\\Lab08_Ex02\\Lab08_Ex02. \n",
    "csproj]\n",
    "D:\\github\\Lab08-CSharp-Class-Part-I\\Lab08_Ex02\\Program.cs(4,3): error CS0122: 'Person.income' is inaccessible due to its protection level [D:\\github\\Lab08-CSharp-Class-Part-I\\Lab08_Ex02\\Lab08_E \n",
    "x02.csproj]\n",
    "D:\\github\\Lab08-CSharp-Class-Part-I\\Lab08_Ex02\\Program.cs(6,40): error CS0122: 'Person.name' is inaccessible due to its protection level [D:\\github\\Lab08-CSharp-Class-Part-I\\Lab08_Ex02\\Lab08_Ex \n",
    "02.csproj]\n",
    "D:\\github\\Lab08-CSharp-Class-Part-I\\Lab08_Ex02\\Program.cs(6,57): error CS0122: 'Person.name' is inaccessible due to its protection level [D:\\github\\Lab08-CSharp-Class-Part-I\\Lab08_Ex02\\Lab08_Ex \n",
    "02.csproj]\n",
    "D:\\github\\Lab08-CSharp-Class-Part-I\\Lab08_Ex02\\Program.cs(7,38): error CS0122: 'Person.id' is inaccessible due to its protection level [D:\\github\\Lab08-CSharp-Class-Part-I\\Lab08_Ex02\\Lab08_Ex02 \n",
    ".csproj]\n",
    "D:\\github\\Lab08-CSharp-Class-Part-I\\Lab08_Ex02\\Program.cs(7,53): error CS0122: 'Person.id' is inaccessible due to its protection level [D:\\github\\Lab08-CSharp-Class-Part-I\\Lab08_Ex02\\Lab08_Ex02\n",
    ".csproj]\n"
   ]
  },
  {
   "cell_type": "markdown",
   "metadata": {},
   "source": [
    "\n",
    "5. Run project โดยการใช้คำสั่ง\n",
    "\n",
    "```\n",
    "    dotnet run --project Lab08_Ex02\n",
    "```\n"
   ]
  },
  {
   "cell_type": "markdown",
   "metadata": {},
   "source": [
    "\n",
    "6. บันทึกผลที่ได้จากการรันคำสั่งในข้อ 5\n",
    "\n"
   ]
  },
  {
   "cell_type": "markdown",
   "metadata": {},
   "source": [
    "*คำตอบ*\n",
    "\n",
    "D:\\github\\Lab08-CSharp-Class-Part-I\\Lab08_Ex02\\Program.cs(12,13): warning CS8618: Non-nullable field 'name' must contain a non-null value when exiting constructor. Consider declaring the field \n",
    "as nullable. [D:\\github\\Lab08-CSharp-Class-Part-I\\Lab08_Ex02\\Lab08_Ex02.csproj]\n",
    "D:\\github\\Lab08-CSharp-Class-Part-I\\Lab08_Ex02\\Program.cs(13,13): warning CS8618: Non-nullable field 'id' must contain a non-null value when exiting constructor. Consider declaring the field as \n",
    " nullable. [D:\\github\\Lab08-CSharp-Class-Part-I\\Lab08_Ex02\\Lab08_Ex02.csproj]\n",
    "D:\\github\\Lab08-CSharp-Class-Part-I\\Lab08_Ex02\\Program.cs(2,3): error CS0122: 'Person.name' is inaccessible due to its protection level [D:\\github\\Lab08-CSharp-Class-Part-I\\Lab08_Ex02\\Lab08_Ex0 \n",
    "2.csproj]\n",
    "D:\\github\\Lab08-CSharp-Class-Part-I\\Lab08_Ex02\\Program.cs(3,3): error CS0122: 'Person.id' is inaccessible due to its protection level [D:\\github\\Lab08-CSharp-Class-Part-I\\Lab08_Ex02\\Lab08_Ex02. \n",
    "csproj]\n",
    "D:\\github\\Lab08-CSharp-Class-Part-I\\Lab08_Ex02\\Program.cs(4,3): error CS0122: 'Person.income' is inaccessible due to its protection level [D:\\github\\Lab08-CSharp-Class-Part-I\\Lab08_Ex02\\Lab08_E \n",
    "x02.csproj]\n",
    "D:\\github\\Lab08-CSharp-Class-Part-I\\Lab08_Ex02\\Program.cs(6,40): error CS0122: 'Person.name' is inaccessible due to its protection level [D:\\github\\Lab08-CSharp-Class-Part-I\\Lab08_Ex02\\Lab08_Ex \n",
    "02.csproj]\n",
    "D:\\github\\Lab08-CSharp-Class-Part-I\\Lab08_Ex02\\Program.cs(6,57): error CS0122: 'Person.name' is inaccessible due to its protection level [D:\\github\\Lab08-CSharp-Class-Part-I\\Lab08_Ex02\\Lab08_Ex \n",
    "02.csproj]\n",
    "D:\\github\\Lab08-CSharp-Class-Part-I\\Lab08_Ex02\\Program.cs(7,38): error CS0122: 'Person.id' is inaccessible due to its protection level [D:\\github\\Lab08-CSharp-Class-Part-I\\Lab08_Ex02\\Lab08_Ex02 \n",
    ".csproj]\n",
    "D:\\github\\Lab08-CSharp-Class-Part-I\\Lab08_Ex02\\Program.cs(7,53): error CS0122: 'Person.id' is inaccessible due to its protection level [D:\\github\\Lab08-CSharp-Class-Part-I\\Lab08_Ex02\\Lab08_Ex02 \n",
    ".csproj]\n",
    "D:\\github\\Lab08-CSharp-Class-Part-I\\Lab08_Ex02\\Program.cs(8,42): error CS0122: 'Person.income' is inaccessible due to its protection level [D:\\github\\Lab08-CSharp-Class-Part-I\\Lab08_Ex02\\Lab08_ \n",
    "Ex02.csproj]\n",
    "D:\\github\\Lab08-CSharp-Class-Part-I\\Lab08_Ex02\\Program.cs(8,61): error CS0122: 'Person.income' is inaccessible due to its protection level [D:\\github\\Lab08-CSharp-Class-Part-I\\Lab08_Ex02\\Lab08_ \n",
    "Ex02.csproj]\n",
    "D:\\github\\Lab08-CSharp-Class-Part-I\\Lab08_Ex02\\Program.cs(12,13): warning CS0169: The field 'Person.name' is never used [D:\\github\\Lab08-CSharp-Class-Part-I\\Lab08_Ex02\\Lab08_Ex02.csproj]        \n",
    "D:\\github\\Lab08-CSharp-Class-Part-I\\Lab08_Ex02\\Program.cs(13,13): warning CS0169: The field 'Person.id' is never used [D:\\github\\Lab08-CSharp-Class-Part-I\\Lab08_Ex02\\Lab08_Ex02.csproj]\n",
    "D:\\github\\Lab08-CSharp-Class-Part-I\\Lab08_Ex02\\Program.cs(14,5): warning CS0169: The field 'Person.income' is never used [D:\\github\\Lab08-CSharp-Class-Part-I\\Lab08_Ex02\\Lab08_Ex02.csproj]       \n",
    "\n",
    "The build failed. Fix the build errors and run again."
   ]
  },
  {
   "cell_type": "markdown",
   "metadata": {},
   "source": [
    "\n",
    "7. อธิบายสิ่งที่พบในการทดลอง\n",
    "\n"
   ]
  },
  {
   "cell_type": "markdown",
   "metadata": {},
   "source": [
    "*คำตอบ*\n",
    "\n",
    "1️ ฟิลด์ไม่มีค่าเริ่มต้น (CS8618) → ฟิลด์ name และ id เป็น non-nullable แต่ไม่มีค่าเริ่มต้นหรือไม่มีการกำหนดค่าใน constructor\n",
    "\n",
    "แก้ไข: กำหนดค่าเริ่มต้น หรือใช้ nullable (string? name;)\n",
    "\n",
    "2 ฟิลด์เป็น private ทำให้เข้าถึงจากภายนอกไม่ได้ (CS0122) → name, id, income ถูกตั้งค่าเป็น private\n",
    "\n",
    "แก้ไข: ใช้ public หรือสร้าง Properties\n",
    "\n",
    "3️ ฟิลด์ถูกประกาศแต่ไม่ได้ใช้ (CS0169) → ฟิลด์ถูกสร้างแต่ไม่มีการใช้งาน แก้ไข: ใช้งานฟิลด์หรือถอดออกหากไม่จำเป็น\n",
    "\n",
    "แก้ไข: ใช้งานฟิลด์หรือถอดออกหากไม่จำเป็น"
   ]
  },
  {
   "cell_type": "markdown",
   "metadata": {},
   "source": [
    "8. นำ code ในข้อ 2 มารันบน polyglot notebook  โดยใส่ใน  code cell ด้านล่างนี้\n"
   ]
  },
  {
   "cell_type": "code",
   "execution_count": null,
   "metadata": {
    "dotnet_interactive": {
     "language": "csharp"
    },
    "polyglot_notebook": {
     "kernelName": "csharp"
    }
   },
   "outputs": [
    {
     "ename": "Error",
     "evalue": "(3,4): error CS0122: 'Person.name' is inaccessible due to its protection level\r\n(4,4): error CS0122: 'Person.id' is inaccessible due to its protection level\r\n(5,4): error CS0122: 'Person.income' is inaccessible due to its protection level\r\n(7,41): error CS0122: 'Person.name' is inaccessible due to its protection level\r\n(7,58): error CS0122: 'Person.name' is inaccessible due to its protection level\r\n(8,39): error CS0122: 'Person.id' is inaccessible due to its protection level\r\n(8,54): error CS0122: 'Person.id' is inaccessible due to its protection level\r\n(9,43): error CS0122: 'Person.income' is inaccessible due to its protection level\r\n(9,62): error CS0122: 'Person.income' is inaccessible due to its protection level",
     "output_type": "error",
     "traceback": [
      "(3,4): error CS0122: 'Person.name' is inaccessible due to its protection level\r\n",
      "(4,4): error CS0122: 'Person.id' is inaccessible due to its protection level\r\n",
      "(5,4): error CS0122: 'Person.income' is inaccessible due to its protection level\r\n",
      "(7,41): error CS0122: 'Person.name' is inaccessible due to its protection level\r\n",
      "(7,58): error CS0122: 'Person.name' is inaccessible due to its protection level\r\n",
      "(8,39): error CS0122: 'Person.id' is inaccessible due to its protection level\r\n",
      "(8,54): error CS0122: 'Person.id' is inaccessible due to its protection level\r\n",
      "(9,43): error CS0122: 'Person.income' is inaccessible due to its protection level\r\n",
      "(9,62): error CS0122: 'Person.income' is inaccessible due to its protection level"
     ]
    }
   ],
   "source": [
    "// พื้นที่เขียน code ตามข้อ 2\n",
    "Person p = new Person();\n",
    " p.name = \"Rambo\";\n",
    " p.id = \"1987\";\n",
    " p.income = 2500;\n",
    " System.Console.WriteLine($\"Type of p is {p.GetType()}\");\n",
    " System.Console.WriteLine($\"p.name = {p.name}\\ttype = {p.name.GetType()}\");\n",
    " System.Console.WriteLine($\"p.id = {p.id}\\ttype = {p.id.GetType()}\");\n",
    " System.Console.WriteLine($\"p.income = {p.income}\\ttype = {p.income.GetType()}\");\n",
    " \n",
    " class Person\n",
    " {\n",
    "     string name;\n",
    "     string id;\n",
    "     int income;\n",
    " }"
   ]
  },
  {
   "cell_type": "markdown",
   "metadata": {},
   "source": [
    "8.1 ผลการรันเป็นอย่างไร\n",
    "\n"
   ]
  },
  {
   "cell_type": "markdown",
   "metadata": {},
   "source": [
    "*คำตอบ*\n",
    "\n",
    "Error: (3,4): error CS0122: 'Person.name' is inaccessible due to its protection level\n",
    "(4,4): error CS0122: 'Person.id' is inaccessible due to its protection level\n",
    "(5,4): error CS0122: 'Person.income' is inaccessible due to its protection level\n",
    "(7,41): error CS0122: 'Person.name' is inaccessible due to its protection level\n",
    "(7,58): error CS0122: 'Person.name' is inaccessible due to its protection level\n",
    "(8,39): error CS0122: 'Person.id' is inaccessible due to its protection level\n",
    "(8,54): error CS0122: 'Person.id' is inaccessible due to its protection level\n",
    "(9,43): error CS0122: 'Person.income' is inaccessible due to its protection level\n",
    "(9,62): error CS0122: 'Person.income' is inaccessible due to its protection level"
   ]
  },
  {
   "cell_type": "markdown",
   "metadata": {},
   "source": [
    "8.2 เหมือนหรือค่างจาก console application อย่างไร"
   ]
  },
  {
   "cell_type": "markdown",
   "metadata": {},
   "source": [
    "*คำตอบ*\n",
    "\n",
    "ผลการรัน เกิด error คล้ายๆกัน แต่บางกรณี ผลการรันบน Terminal จะแจ้งเป็น Warning มาดด้วย"
   ]
  },
  {
   "cell_type": "markdown",
   "metadata": {},
   "source": [
    "## คำถาม"
   ]
  },
  {
   "cell_type": "markdown",
   "metadata": {},
   "source": [
    "1. Field ในภาษา C# คืออะไร\n"
   ]
  },
  {
   "cell_type": "markdown",
   "metadata": {},
   "source": [
    "*คำตอบ*\n",
    "\n",
    "Field คือ ตัวแปรของคลาส (Class Variable) ที่ใช้เก็บข้อมูลของออบเจ็กต์ (Object)"
   ]
  },
  {
   "cell_type": "markdown",
   "metadata": {},
   "source": [
    "2. Field มีหน้าที่อะไรใน class \n"
   ]
  },
  {
   "cell_type": "markdown",
   "metadata": {},
   "source": [
    "*คำตอบ*\n",
    "\n",
    "เก็บข้อมูลของออบเจ็กต์ → ใช้เก็บค่าที่เป็นสถานะของออบเจ็กต์\n",
    "\n",
    "ใช้ร่วมกับ Methods และ Properties → ให้คลาสสามารถจัดการข้อมูลภายในได้\n",
    "\n",
    "ควบคุมการเข้าถึงข้อมูล → ใช้ private, public, protected เพื่อกำหนดสิทธิ์"
   ]
  },
  {
   "cell_type": "markdown",
   "metadata": {},
   "source": [
    "3. การประกาศ Field ทำได้อย่างไร ให้อธิบายรูปแบบการประกาศ field ในคลาส\n"
   ]
  },
  {
   "cell_type": "markdown",
   "metadata": {},
   "source": [
    "*คำตอบ*\n",
    "\n",
    "Field คือตัวแปรที่ประกาศไว้ภายในคลาส (Class) หรือโครงสร้าง (Struct) เพื่อเก็บข้อมูลหรือสถานะของอ็อบเจ็กต์ (Object) ที่สร้างจากคลาสนั้นๆ\n",
    "\n",
    "[access modifier] [type] [field name]; รูปแบบการประกาศ"
   ]
  },
  {
   "cell_type": "markdown",
   "metadata": {},
   "source": [
    "4. Field และ Variable แตกต่างกันอย่างไร\n"
   ]
  },
  {
   "cell_type": "markdown",
   "metadata": {},
   "source": [
    "*คำตอบ*\n",
    "\n",
    "Field \n",
    "ตำแหน่งที่ใช้\tใช้ในคลาส (Class) หรือโครงสร้าง (Struct)\n",
    "\n",
    "ขอบเขตการเข้าถึง\tควบคุมได้ด้วย Access Modifier (public, private, etc.)\n",
    "\n",
    "อายุการใช้งาน\tคงอยู่ตลอดอายุของออบเจ็กต์ (สำหรับ instance field)\t\n",
    "\n",
    "ค่าตั้งต้น\tมีค่าตั้งต้นตามประเภทข้อมูล\t\n",
    "\n",
    "Variable \n",
    "\n",
    "ตำแหน่งที่ใช้ ใช้ในเมธอด (Method), บล็อกโค้ด หรือพารามิเตอร์\n",
    "\n",
    "ขอบเขตการเข้าถึง ใช้ได้แค่ภายในเมธอดหรือบล็อกที่ประกาศ\n",
    "\n",
    "อายุการใช้งาน มีอายุแค่ภายในเมธอดหรือบล็อกที่มันถูกสร้าง\n",
    "\n",
    "ค่าตั้งต้น ไม่มีค่าตั้งต้น ต้องกำหนดค่าก่อนใช้"
   ]
  },
  {
   "cell_type": "markdown",
   "metadata": {},
   "source": [
    "5. เมื่อไหร่ควรใช้ Field และเมื่อไหร่ควรใช้ Variable"
   ]
  },
  {
   "cell_type": "markdown",
   "metadata": {},
   "source": [
    "*คำตอบ*\n",
    "ใช้ Field เมื่อ:\n",
    "\n",
    "-ต้องการเก็บข้อมูลของ ออบเจ็กต์ (Object) ตลอดอายุของมัน\n",
    "\n",
    "-ต้องการแชร์ข้อมูลระหว่างเมธอดภายในคลาส\n",
    "\n",
    "-ต้องการควบคุมการเข้าถึงด้วย Access Modifier (public, private, etc.)"
   ]
  },
  {
   "cell_type": "markdown",
   "metadata": {},
   "source": [
    "6. ในโปรแกรมการทดลองนี้ มี field หรือไม่ อยู่ในบรรทัดที่เท่าไหร่\n"
   ]
  },
  {
   "cell_type": "markdown",
   "metadata": {},
   "source": [
    "*คำตอบ*\n",
    "\n",
    "Field อยู่ในคลาส Person ซึ่งประกาศไว้ในบรรทัดที่ 12, 13, 14"
   ]
  },
  {
   "cell_type": "markdown",
   "metadata": {},
   "source": [
    "7. ผลจากการรันโปรแกรมใน Console Application และใน polyglot notebook เหมือนหรือแตกต่างกันอย่างไร"
   ]
  },
  {
   "cell_type": "markdown",
   "metadata": {},
   "source": [
    "*คำตอบ*\n",
    "\n",
    "Polyglot Notebook จะแสดงแค่ error แต่จะไม่แสดง warning ในรูปแบบที่เหมือนกับใน Terminal"
   ]
  }
 ],
 "metadata": {
  "kernelspec": {
   "display_name": ".NET (C#)",
   "language": "C#",
   "name": ".net-csharp"
  },
  "polyglot_notebook": {
   "kernelInfo": {
    "defaultKernelName": "csharp",
    "items": [
     {
      "aliases": [],
      "languageName": "csharp",
      "name": "csharp"
     }
    ]
   }
  }
 },
 "nbformat": 4,
 "nbformat_minor": 2
}
