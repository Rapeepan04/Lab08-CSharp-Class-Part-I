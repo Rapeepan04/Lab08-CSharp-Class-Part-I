{
 "cells": [
  {
   "cell_type": "markdown",
   "metadata": {},
   "source": [
    "# Lab 8 Exercise 1 \n",
    "##  การสร้าง Class\n"
   ]
  },
  {
   "cell_type": "markdown",
   "metadata": {},
   "source": [
    "\n",
    "1. สร้าง console application project\n"
   ]
  },
  {
   "cell_type": "markdown",
   "metadata": {},
   "source": [
    "1.1 เรียก terminal (cmd) ขึ้นมา \n",
    "\n",
    "1.2 ตรวจสอบให้แน่ใจว่าอยู่ใน folder หรือ directory ที่ต้องการสร้าง project \n",
    "\n",
    "1.3 พิมพ์คำสั่งต่อไปนี้\n",
    "\n",
    "``` \n",
    "    dotnet new console --name Lab08_Ex01\n",
    "```\n",
    "\n",
    "1.4 ใช้คำสั่ง dir เพื่อตรวจสอบดูว่าโฟลเดอร์ของ project ได้ถูกสร้างขึ้นแล้วหรือยัง"
   ]
  },
  {
   "cell_type": "markdown",
   "metadata": {},
   "source": [
    "\n",
    "2. เปลี่ยน code ในไฟล์ program.cs ให้เป็นดังต่อไปนี้ (ตัวเลขข้างหน้า คือหมายเลขบรรทัด ไว้สำหรับอ้างอิง)\n",
    "\n",
    "> ```c#\n",
    "> 1.  Person p = new Person();\n",
    "> 2.  System.Console.WriteLine($\"Type of p is {p.GetType()}\");\n",
    "> 3.  \n",
    "> 4.  class Person\n",
    "> 5.  {\n",
    "> 6.  \n",
    "> 7.  }\n",
    "> ```\n"
   ]
  },
  {
   "cell_type": "markdown",
   "metadata": {},
   "source": [
    "\n",
    "3. Build project โดยการใช้คำสั่ง\n",
    "\n",
    "```\n",
    "dotnet build  Lab08_Ex01\n",
    "```\n"
   ]
  },
  {
   "cell_type": "markdown",
   "metadata": {},
   "source": [
    "\n",
    "4. บันทึกผลที่ได้จากการรันคำสั่งในข้อ 3\n"
   ]
  },
  {
   "cell_type": "markdown",
   "metadata": {},
   "source": [
    "*คำตอบ*\n",
    "\n",
    "Lab08_Ex01 -> D:\\github\\Lab08-CSharp-Class-Part-I\\Lab08_Ex01\\bin\\Debug\\net8.0\\Lab08_Ex01.dll\n",
    "Build succeeded.\n",
    "    0 Warning(s)\n",
    "    0 Error(s)\n",
    "\n",
    "Time Elapsed 00:00:02.24"
   ]
  },
  {
   "cell_type": "markdown",
   "metadata": {},
   "source": [
    "\n",
    "5. Run project โดยการใช้คำสั่ง\n",
    "\n",
    "```\n",
    "dotnet run --project Lab08_Ex01\n",
    "```\n"
   ]
  },
  {
   "cell_type": "markdown",
   "metadata": {},
   "source": [
    "\n",
    "6. บันทึกผลที่ได้จากการรันคำสั่งในข้อ 5\n"
   ]
  },
  {
   "cell_type": "markdown",
   "metadata": {},
   "source": [
    "*คำตอบ*\n",
    "\n",
    "PS D:\\github\\Lab08-CSharp-Class-Part-I> dotnet run --project Lab08_Ex01\n",
    "Type of p is Person"
   ]
  },
  {
   "cell_type": "markdown",
   "metadata": {},
   "source": [
    "7. โค้ดต่อไปนี้สามารถรันได้ใน polyglot notebook หรือไม่ "
   ]
  },
  {
   "cell_type": "code",
   "execution_count": 1,
   "metadata": {
    "vscode": {
     "languageId": "polyglot-notebook"
    }
   },
   "outputs": [
    {
     "name": "stdout",
     "output_type": "stream",
     "text": [
      "Type of p is Submission#1+Person\r\n"
     ]
    }
   ],
   "source": [
    "Person p = new Person();\n",
    "System.Console.WriteLine($\"Type of p is {p.GetType()}\");\n",
    "\n",
    "class Person\n",
    "{\n",
    "\n",
    "}"
   ]
  },
  {
   "cell_type": "markdown",
   "metadata": {},
   "source": [
    "*คำตอบ*\n",
    "\n",
    "สามารถรันได้และขะมีผลลัพท์ ดังนี้ Type of p is Submission#1+Person\n"
   ]
  },
  {
   "cell_type": "markdown",
   "metadata": {},
   "source": [
    "## คำถาม\n",
    "\n"
   ]
  },
  {
   "cell_type": "markdown",
   "metadata": {},
   "source": [
    "1. Class ในภาษา C# คืออะไร\n"
   ]
  },
  {
   "cell_type": "markdown",
   "metadata": {},
   "source": [
    "*คำตอบ*\n",
    "\n",
    "Class ใน C# คือ แม่แบบ (Blueprint) สำหรับสร้างวัตถุ (Object) ที่กำหนดคุณสมบัติ (Properties) และพฤติกรรม (Methods) ของวัตถุนั้น"
   ]
  },
  {
   "cell_type": "markdown",
   "metadata": {},
   "source": [
    "2. Class มีหน้าที่อะไร\n"
   ]
  },
  {
   "cell_type": "markdown",
   "metadata": {},
   "source": [
    "*คำตอบ*\n",
    "\n",
    "หน้าที่ของ Class ใน C# คือ กำหนดโครงสร้างของวัตถุ (Object) โดยรวม ข้อมูล (Properties) และพฤติกรรม (Methods) ไว้ด้วยกัน เพื่อช่วย จัดระเบียบโค้ด, ใช้ซ้ำได้, และรองรับ OOP เช่น การสืบทอด (Inheritance) และการห่อหุ้มข้อมูล (Encapsulation)"
   ]
  },
  {
   "cell_type": "markdown",
   "metadata": {},
   "source": [
    "3. ทำไมเราต้องใช้ Class\n"
   ]
  },
  {
   "cell_type": "markdown",
   "metadata": {},
   "source": [
    "*คำตอบ*\n",
    "\n",
    "เราใช้ Class เพราะมันช่วยให้โค้ด เป็นระเบียบ, ใช้ซ้ำได้, และง่ายต่อการดูแล โดยรวม ข้อมูลและพฤติกรรมเข้าด้วยกัน ตามหลัก OOP (Object-Oriented Programming) ทำให้การพัฒนาโปรแกรม ยืดหยุ่น และ ขยายได้ง่าย"
   ]
  },
  {
   "cell_type": "markdown",
   "metadata": {},
   "source": [
    "4. ส่วนประกอบของ Class มีอะไรบ้าง\n"
   ]
  },
  {
   "cell_type": "markdown",
   "metadata": {},
   "source": [
    "*คำตอบ*\n",
    "\n",
    "ส่วนประกอบของ Class ใน C# มีหลัก ๆ ดังนี้:\n",
    "\n",
    "-ชื่อคลาส (Class Name) – กำหนดชื่อของคลาส\n",
    "\n",
    "-ฟิลด์ (Fields) – ตัวแปรเก็บข้อมูลภายในคลาส\n",
    "\n",
    "-พร็อพเพอร์ตี้ (Properties) – ใช้เข้าถึงหรือกำหนดค่าฟิลด์\n",
    "\n",
    "-เมธอด (Methods) – กำหนดพฤติกรรมของคลาส\n",
    "\n",
    "-คอนสตรักเตอร์ (Constructor) – เมธอดพิเศษที่เรียกเมื่อสร้างอ็อบเจกต์\n",
    "\n",
    "-เมมเบอร์อื่น ๆ เช่น อีเวนต์ (Events) และอินเด็กเซอร์ (Indexers)"
   ]
  },
  {
   "cell_type": "markdown",
   "metadata": {},
   "source": [
    "5. Class และ Object แตกต่างกันอย่างไร\n"
   ]
  },
  {
   "cell_type": "markdown",
   "metadata": {},
   "source": [
    "*คำตอบ*\n",
    "\n",
    "Class คือ แม่แบบ (Blueprint) สำหรับสร้างวัตถุ (Object)\n",
    "\n",
    "Object คือ สิ่งที่ถูกสร้างขึ้นจาก Class และสามารถใช้งานจริงได้"
   ]
  },
  {
   "cell_type": "markdown",
   "metadata": {},
   "source": [
    "6. การตั้งชื่อ Class มีหลักเกณฑ์อย่างไร"
   ]
  },
  {
   "cell_type": "markdown",
   "metadata": {},
   "source": [
    "*คำตอบ*\n",
    "\n",
    "-ใช้ PascalCase – ตัวอักษรแรกของแต่ละคำเป็นตัวใหญ่ เช่น CustomerOrder\n",
    "\n",
    "-ชื่อควรสื่อความหมาย – บอกได้ว่าคลาสนี้ใช้ทำอะไร เช่น Car, EmployeeManager\n",
    "\n",
    "-เป็นคำนาม – เพราะคลาสเป็นแม่แบบของวัตถุ เช่น Student, Product\n",
    "\n",
    "-ไม่ใช้ชื่อย่อหรือกำกวม – ควรอ่านแล้วเข้าใจง่าย\n",
    "\n",
    "-หลีกเลี่ยงการใช้ตัวเลขและอักขระพิเศษ – เช่น User123 หรือ _DataClass ไม่เหมาะสม"
   ]
  },
  {
   "cell_type": "markdown",
   "metadata": {},
   "source": [
    "7. คำสั่ง p.GetType() คืออะไร"
   ]
  },
  {
   "cell_type": "markdown",
   "metadata": {},
   "source": [
    "*คำตอบ*\n",
    "\n",
    "p.GetType() ใช้ดูว่าอ็อบเจกต์ p เป็นของคลาสอะไร"
   ]
  },
  {
   "cell_type": "markdown",
   "metadata": {},
   "source": [
    "8. ผลที่ได้จากคำสั่ง  p.GetType() คืออะไร มันให้ข้อมูลอะไรแก่เราบ้าง"
   ]
  },
  {
   "cell_type": "markdown",
   "metadata": {},
   "source": [
    "*คำตอบ*\n",
    "\n",
    "p.GetType() ใช้ดูว่าตัวแปร p เป็นประเภทอะไร และช่วยให้เราสามารถตรวจสอบโครงสร้างของคลาสได้ "
   ]
  },
  {
   "cell_type": "markdown",
   "metadata": {},
   "source": [
    "9. ในภาษา C# การประกาศ class ไว้ก่อนหรือหลังการสร้าง  object ต่างกันหรือไม่ "
   ]
  },
  {
   "cell_type": "markdown",
   "metadata": {},
   "source": [
    "*คำตอบ*\n",
    "\n",
    "ในภาษา C# ต้องประกาศ class ก่อนจึงจะสามารถสร้าง object จากมันได้ มิฉะนั้นจะเกิดข้อผิดพลาดขณะคอมไพล์ (Compile-time Error)"
   ]
  }
 ],
 "metadata": {
  "kernelspec": {
   "display_name": ".NET (C#)",
   "language": "C#",
   "name": ".net-csharp"
  },
  "language_info": {
   "codemirror_mode": {
    "name": "ipython",
    "version": 3
   },
   "file_extension": ".py",
   "mimetype": "text/x-python",
   "name": "python",
   "nbconvert_exporter": "python",
   "pygments_lexer": "ipython3",
   "version": "3.11.0"
  },
  "polyglot_notebook": {
   "kernelInfo": {
    "defaultKernelName": "csharp",
    "items": [
     {
      "aliases": [],
      "languageName": "csharp",
      "name": "csharp"
     }
    ]
   }
  }
 },
 "nbformat": 4,
 "nbformat_minor": 2
}
